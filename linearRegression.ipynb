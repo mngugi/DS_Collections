{
 "cells": [
  {
   "cell_type": "markdown",
   "id": "00b52311-9b22-4c07-abfe-eb841b09a3f6",
   "metadata": {},
   "source": [
    " This excercise is about learning Sciktit-learn modules .\n",
    " "
   ]
  },
  {
   "cell_type": "markdown",
   "id": "1c9b738d-bfb5-4b51-8752-97791a19ed15",
   "metadata": {},
   "source": [
    "**Linear Models: Ordinary Least Squares**  \n",
    "**Linear Regression**\n"
   ]
  },
  {
   "cell_type": "code",
   "execution_count": 3,
   "id": "d036aca4-01f0-40d9-a572-cab5580a110d",
   "metadata": {},
   "outputs": [
    {
     "data": {
      "text/plain": [
       "array([0.5, 0.5])"
      ]
     },
     "execution_count": 3,
     "metadata": {},
     "output_type": "execute_result"
    }
   ],
   "source": [
    "from sklearn import linear_model\n",
    "\n",
    "regression = linear_model.LinearRegression()\n",
    "regression.fit([[0,0],[1,1,],[2,2]], [0,1,2])\n",
    "\n",
    "regression.coef_\n"
   ]
  },
  {
   "cell_type": "code",
   "execution_count": null,
   "id": "6ef1ce3a-33e4-418c-bcbe-6e97bb7acb82",
   "metadata": {},
   "outputs": [],
   "source": []
  }
 ],
 "metadata": {
  "kernelspec": {
   "display_name": "Python 3 (ipykernel)",
   "language": "python",
   "name": "python3"
  },
  "language_info": {
   "codemirror_mode": {
    "name": "ipython",
    "version": 3
   },
   "file_extension": ".py",
   "mimetype": "text/x-python",
   "name": "python",
   "nbconvert_exporter": "python",
   "pygments_lexer": "ipython3",
   "version": "3.12.5"
  }
 },
 "nbformat": 4,
 "nbformat_minor": 5
}
