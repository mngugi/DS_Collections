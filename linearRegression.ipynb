{
 "cells": [
  {
   "cell_type": "markdown",
   "id": "00b52311-9b22-4c07-abfe-eb841b09a3f6",
   "metadata": {},
   "source": [
    " This excercise is about learning Sciktit-learn modules .\n",
    " "
   ]
  },
  {
   "cell_type": "markdown",
   "id": "1c9b738d-bfb5-4b51-8752-97791a19ed15",
   "metadata": {},
   "source": [
    "**Linear Models: Ordinary Least Squares**  \n",
    "**Linear Regression**\n"
   ]
  },
  {
   "cell_type": "code",
   "execution_count": 3,
   "id": "d036aca4-01f0-40d9-a572-cab5580a110d",
   "metadata": {},
   "outputs": [
    {
     "data": {
      "text/plain": [
       "array([0.5, 0.5])"
      ]
     },
     "execution_count": 3,
     "metadata": {},
     "output_type": "execute_result"
    }
   ],
   "source": [
    "# Importing the linear_model module from the sklearn library, which contains machine learning algorithms for regression and classification.\n",
    "from sklearn import linear_model\n",
    "\n",
    "# Creating an instance of the LinearRegression model, which is used to perform simple or multiple linear regression.\n",
    "regression = linear_model.LinearRegression()\n",
    "\n",
    "# Training the regression model using the fit method. \n",
    "# The method takes two arguments: \n",
    "# 1. A 2D list of input data (X), which contains features.\n",
    "# 2. A 1D list of target values (y), which are the corresponding output values.\n",
    "# In this example, the inputs are [[0, 0], [1, 1], [2, 2]], and the targets are [0, 1, 2].\n",
    "regression.fit([[0,0],[1,1],[2,2]], [0,1,2])\n",
    "\n",
    "# Accessing the coefficients (slopes of the regression line) of the linear regression model. \n",
    "# These coefficients represent the change in the predicted output with respect to each input feature.\n",
    "regression.coef_\n"
   ]
  },
  {
   "cell_type": "markdown",
   "id": "45e08196-bfc1-48e2-b76c-22d853eb5e12",
   "metadata": {},
   "source": [
    "**Linear Model Ridge**"
   ]
  },
  {
   "cell_type": "code",
   "execution_count": 9,
   "id": "6ef1ce3a-33e4-418c-bcbe-6e97bb7acb82",
   "metadata": {},
   "outputs": [
    {
     "name": "stdout",
     "output_type": "stream",
     "text": [
      "coef_ is : [0.34545455 0.34545455]\n",
      "regression model intercept: 0.13636363636363638\n"
     ]
    }
   ],
   "source": [
    "# Importing the linear_model module from the sklearn library, which contains machine learning algorithms for regression and classification.\n",
    "from sklearn import linear_model\n",
    "\n",
    "# Creating an instance of the Ridge regression model with regularization. \n",
    "# The alpha parameter controls the strength of the regularization.\n",
    "# Ridge regression is a regularized version of linear regression to prevent overfitting by penalizing large coefficients.\n",
    "# In this case, alpha is set to 0.5, meaning moderate regularization is applied.\n",
    "regression = linear_model.Ridge(alpha=0.5)\n",
    "\n",
    "# Training the Ridge regression model using the fit method.\n",
    "# The fit method takes two arguments:\n",
    "# 1. A 2D list (X) containing the input features.\n",
    "# 2. A 1D list (y) containing the target output values.\n",
    "# In this example, the inputs are [[0, 0], [0, 0], [1, 1]], and the targets are [0, 0.1, 1].\n",
    "# The model learns the relationship between the features and the target values.\n",
    "regression.fit([[0,0],[0,0],[1,1]], [0,.1,1])\n",
    "\n",
    "# Accessing the learned coefficients (slopes) of the Ridge regression model.\n",
    "# These coefficients represent the relationship between each input feature and the predicted output.\n",
    "print(f'coef_ is : {regression.coef_}')\n",
    "\n",
    "# Accessing the intercept (the constant term) of the regression model, \n",
    "# which represents the predicted output when all input features are 0.\n",
    "print(f'regression model intercept: {regression.intercept_}')\n"
   ]
  },
  {
   "cell_type": "code",
   "execution_count": null,
   "id": "643b3b64-9291-4b54-ada4-760bea433983",
   "metadata": {},
   "outputs": [],
   "source": []
  }
 ],
 "metadata": {
  "kernelspec": {
   "display_name": "Python 3 (ipykernel)",
   "language": "python",
   "name": "python3"
  },
  "language_info": {
   "codemirror_mode": {
    "name": "ipython",
    "version": 3
   },
   "file_extension": ".py",
   "mimetype": "text/x-python",
   "name": "python",
   "nbconvert_exporter": "python",
   "pygments_lexer": "ipython3",
   "version": "3.12.5"
  }
 },
 "nbformat": 4,
 "nbformat_minor": 5
}
