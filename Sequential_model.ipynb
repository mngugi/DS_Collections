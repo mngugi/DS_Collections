{
  "nbformat": 4,
  "nbformat_minor": 0,
  "metadata": {
    "colab": {
      "provenance": [],
      "gpuType": "T4",
      "include_colab_link": true
    },
    "kernelspec": {
      "name": "python3",
      "display_name": "Python 3"
    },
    "language_info": {
      "name": "python"
    },
    "accelerator": "GPU"
  },
  "cells": [
    {
      "cell_type": "markdown",
      "metadata": {
        "id": "view-in-github",
        "colab_type": "text"
      },
      "source": [
        "<a href=\"https://colab.research.google.com/github/mngugi/DS_Collections/blob/main/Sequential_model.ipynb\" target=\"_parent\"><img src=\"https://colab.research.google.com/assets/colab-badge.svg\" alt=\"Open In Colab\"/></a>"
      ]
    },
    {
      "cell_type": "markdown",
      "source": [
        "###Importing necessary libraries"
      ],
      "metadata": {
        "id": "np2tF43YLL5H"
      }
    },
    {
      "cell_type": "code",
      "source": [
        "!pip install tensorflow"
      ],
      "metadata": {
        "colab": {
          "base_uri": "https://localhost:8080/"
        },
        "id": "jhVdjbCPBUYw",
        "outputId": "47d4b129-b386-45e7-8807-755d19faa64d"
      },
      "execution_count": null,
      "outputs": [
        {
          "output_type": "stream",
          "name": "stdout",
          "text": [
            "Requirement already satisfied: tensorflow in /usr/local/lib/python3.10/dist-packages (2.15.0)\n",
            "Requirement already satisfied: absl-py>=1.0.0 in /usr/local/lib/python3.10/dist-packages (from tensorflow) (1.4.0)\n",
            "Requirement already satisfied: astunparse>=1.6.0 in /usr/local/lib/python3.10/dist-packages (from tensorflow) (1.6.3)\n",
            "Requirement already satisfied: flatbuffers>=23.5.26 in /usr/local/lib/python3.10/dist-packages (from tensorflow) (24.3.25)\n",
            "Requirement already satisfied: gast!=0.5.0,!=0.5.1,!=0.5.2,>=0.2.1 in /usr/local/lib/python3.10/dist-packages (from tensorflow) (0.5.4)\n",
            "Requirement already satisfied: google-pasta>=0.1.1 in /usr/local/lib/python3.10/dist-packages (from tensorflow) (0.2.0)\n",
            "Requirement already satisfied: h5py>=2.9.0 in /usr/local/lib/python3.10/dist-packages (from tensorflow) (3.9.0)\n",
            "Requirement already satisfied: libclang>=13.0.0 in /usr/local/lib/python3.10/dist-packages (from tensorflow) (18.1.1)\n",
            "Requirement already satisfied: ml-dtypes~=0.2.0 in /usr/local/lib/python3.10/dist-packages (from tensorflow) (0.2.0)\n",
            "Requirement already satisfied: numpy<2.0.0,>=1.23.5 in /usr/local/lib/python3.10/dist-packages (from tensorflow) (1.25.2)\n",
            "Requirement already satisfied: opt-einsum>=2.3.2 in /usr/local/lib/python3.10/dist-packages (from tensorflow) (3.3.0)\n",
            "Requirement already satisfied: packaging in /usr/local/lib/python3.10/dist-packages (from tensorflow) (24.0)\n",
            "Requirement already satisfied: protobuf!=4.21.0,!=4.21.1,!=4.21.2,!=4.21.3,!=4.21.4,!=4.21.5,<5.0.0dev,>=3.20.3 in /usr/local/lib/python3.10/dist-packages (from tensorflow) (3.20.3)\n",
            "Requirement already satisfied: setuptools in /usr/local/lib/python3.10/dist-packages (from tensorflow) (67.7.2)\n",
            "Requirement already satisfied: six>=1.12.0 in /usr/local/lib/python3.10/dist-packages (from tensorflow) (1.16.0)\n",
            "Requirement already satisfied: termcolor>=1.1.0 in /usr/local/lib/python3.10/dist-packages (from tensorflow) (2.4.0)\n",
            "Requirement already satisfied: typing-extensions>=3.6.6 in /usr/local/lib/python3.10/dist-packages (from tensorflow) (4.10.0)\n",
            "Requirement already satisfied: wrapt<1.15,>=1.11.0 in /usr/local/lib/python3.10/dist-packages (from tensorflow) (1.14.1)\n",
            "Requirement already satisfied: tensorflow-io-gcs-filesystem>=0.23.1 in /usr/local/lib/python3.10/dist-packages (from tensorflow) (0.36.0)\n",
            "Requirement already satisfied: grpcio<2.0,>=1.24.3 in /usr/local/lib/python3.10/dist-packages (from tensorflow) (1.62.1)\n",
            "Requirement already satisfied: tensorboard<2.16,>=2.15 in /usr/local/lib/python3.10/dist-packages (from tensorflow) (2.15.2)\n",
            "Requirement already satisfied: tensorflow-estimator<2.16,>=2.15.0 in /usr/local/lib/python3.10/dist-packages (from tensorflow) (2.15.0)\n",
            "Requirement already satisfied: keras<2.16,>=2.15.0 in /usr/local/lib/python3.10/dist-packages (from tensorflow) (2.15.0)\n",
            "Requirement already satisfied: wheel<1.0,>=0.23.0 in /usr/local/lib/python3.10/dist-packages (from astunparse>=1.6.0->tensorflow) (0.43.0)\n",
            "Requirement already satisfied: google-auth<3,>=1.6.3 in /usr/local/lib/python3.10/dist-packages (from tensorboard<2.16,>=2.15->tensorflow) (2.27.0)\n",
            "Requirement already satisfied: google-auth-oauthlib<2,>=0.5 in /usr/local/lib/python3.10/dist-packages (from tensorboard<2.16,>=2.15->tensorflow) (1.2.0)\n",
            "Requirement already satisfied: markdown>=2.6.8 in /usr/local/lib/python3.10/dist-packages (from tensorboard<2.16,>=2.15->tensorflow) (3.6)\n",
            "Requirement already satisfied: requests<3,>=2.21.0 in /usr/local/lib/python3.10/dist-packages (from tensorboard<2.16,>=2.15->tensorflow) (2.31.0)\n",
            "Requirement already satisfied: tensorboard-data-server<0.8.0,>=0.7.0 in /usr/local/lib/python3.10/dist-packages (from tensorboard<2.16,>=2.15->tensorflow) (0.7.2)\n",
            "Requirement already satisfied: werkzeug>=1.0.1 in /usr/local/lib/python3.10/dist-packages (from tensorboard<2.16,>=2.15->tensorflow) (3.0.1)\n",
            "Requirement already satisfied: cachetools<6.0,>=2.0.0 in /usr/local/lib/python3.10/dist-packages (from google-auth<3,>=1.6.3->tensorboard<2.16,>=2.15->tensorflow) (5.3.3)\n",
            "Requirement already satisfied: pyasn1-modules>=0.2.1 in /usr/local/lib/python3.10/dist-packages (from google-auth<3,>=1.6.3->tensorboard<2.16,>=2.15->tensorflow) (0.4.0)\n",
            "Requirement already satisfied: rsa<5,>=3.1.4 in /usr/local/lib/python3.10/dist-packages (from google-auth<3,>=1.6.3->tensorboard<2.16,>=2.15->tensorflow) (4.9)\n",
            "Requirement already satisfied: requests-oauthlib>=0.7.0 in /usr/local/lib/python3.10/dist-packages (from google-auth-oauthlib<2,>=0.5->tensorboard<2.16,>=2.15->tensorflow) (1.4.1)\n",
            "Requirement already satisfied: charset-normalizer<4,>=2 in /usr/local/lib/python3.10/dist-packages (from requests<3,>=2.21.0->tensorboard<2.16,>=2.15->tensorflow) (3.3.2)\n",
            "Requirement already satisfied: idna<4,>=2.5 in /usr/local/lib/python3.10/dist-packages (from requests<3,>=2.21.0->tensorboard<2.16,>=2.15->tensorflow) (3.6)\n",
            "Requirement already satisfied: urllib3<3,>=1.21.1 in /usr/local/lib/python3.10/dist-packages (from requests<3,>=2.21.0->tensorboard<2.16,>=2.15->tensorflow) (2.0.7)\n",
            "Requirement already satisfied: certifi>=2017.4.17 in /usr/local/lib/python3.10/dist-packages (from requests<3,>=2.21.0->tensorboard<2.16,>=2.15->tensorflow) (2024.2.2)\n",
            "Requirement already satisfied: MarkupSafe>=2.1.1 in /usr/local/lib/python3.10/dist-packages (from werkzeug>=1.0.1->tensorboard<2.16,>=2.15->tensorflow) (2.1.5)\n",
            "Requirement already satisfied: pyasn1<0.7.0,>=0.4.6 in /usr/local/lib/python3.10/dist-packages (from pyasn1-modules>=0.2.1->google-auth<3,>=1.6.3->tensorboard<2.16,>=2.15->tensorflow) (0.6.0)\n",
            "Requirement already satisfied: oauthlib>=3.0.0 in /usr/local/lib/python3.10/dist-packages (from requests-oauthlib>=0.7.0->google-auth-oauthlib<2,>=0.5->tensorboard<2.16,>=2.15->tensorflow) (3.2.2)\n"
          ]
        }
      ]
    },
    {
      "cell_type": "code",
      "execution_count": null,
      "metadata": {
        "id": "Mudm4bocLGKg"
      },
      "outputs": [],
      "source": [
        "#importing tensorflow\n",
        "import tensorflow as tf\n",
        "from tensorflow import keras\n",
        "#data manipulation\n",
        "import numpy as np\n",
        "import matplotlib.pyplot as plt\n"
      ]
    },
    {
      "cell_type": "markdown",
      "source": [
        "###Importing the dataset"
      ],
      "metadata": {
        "id": "CX_dGLghM5E8"
      }
    },
    {
      "cell_type": "code",
      "source": [
        "#importing the nmist dataset\n",
        "mnist = keras.datasets.mnist"
      ],
      "metadata": {
        "id": "fc3DRP-3M7M4"
      },
      "execution_count": null,
      "outputs": []
    },
    {
      "cell_type": "markdown",
      "source": [
        "###Defining the training and testing variables"
      ],
      "metadata": {
        "id": "c74l3uWwNX6h"
      }
    },
    {
      "cell_type": "code",
      "source": [
        "(x_train,y_train), (x_test, y_test) = mnist.load_data()"
      ],
      "metadata": {
        "colab": {
          "base_uri": "https://localhost:8080/"
        },
        "id": "ChjP8DRUNXlj",
        "outputId": "1f6b4ba6-efe6-4136-f67e-08fde0d6a879"
      },
      "execution_count": null,
      "outputs": [
        {
          "output_type": "stream",
          "name": "stdout",
          "text": [
            "Downloading data from https://storage.googleapis.com/tensorflow/tf-keras-datasets/mnist.npz\n",
            "11490434/11490434 [==============================] - 0s 0us/step\n"
          ]
        }
      ]
    },
    {
      "cell_type": "markdown",
      "source": [
        "###Checking the shape of the train and the test set"
      ],
      "metadata": {
        "id": "d0PP6tymNxEh"
      }
    },
    {
      "cell_type": "code",
      "source": [
        "print('training_shape:', x_train.shape)\n",
        "print('training_shape of y:', y_train.shape)\n",
        "print('testing_shape:', x_test.shape)\n",
        "print('testing_shape of y:', y_test.shape)"
      ],
      "metadata": {
        "colab": {
          "base_uri": "https://localhost:8080/"
        },
        "id": "uUR-zUB3N0bJ",
        "outputId": "7e1db969-b264-492e-9fbe-2fe6b6fa6959"
      },
      "execution_count": null,
      "outputs": [
        {
          "output_type": "stream",
          "name": "stdout",
          "text": [
            "training_shape: (60000, 28, 28)\n",
            "training_shape of y: (60000,)\n",
            "testing_shape: (10000, 28, 28)\n",
            "testing_shape of y: (10000,)\n"
          ]
        }
      ]
    },
    {
      "cell_type": "markdown",
      "source": [
        "###Normalizing the images"
      ],
      "metadata": {
        "id": "H-bl6C-pOWMc"
      }
    },
    {
      "cell_type": "code",
      "source": [
        "x_train, x_test = x_train/255.0, x_test/255.0"
      ],
      "metadata": {
        "id": "wK8YHqPlOaNb"
      },
      "execution_count": null,
      "outputs": []
    },
    {
      "cell_type": "markdown",
      "source": [
        "###Plotting the data to check the images"
      ],
      "metadata": {
        "id": "QtO0wg8xOm9b"
      }
    },
    {
      "cell_type": "code",
      "source": [
        "#function to plot the images\n",
        "for i in range(8):\n",
        "  plt.subplot(4,4, i+1)\n",
        "  plt.imshow(x_train[i], cmap = 'gray')\n",
        "plt.show()"
      ],
      "metadata": {
        "colab": {
          "base_uri": "https://localhost:8080/",
          "height": 241
        },
        "id": "hW3_sChaOqGE",
        "outputId": "36df4c85-5994-4abe-f51c-05fc230e896d"
      },
      "execution_count": null,
      "outputs": [
        {
          "output_type": "display_data",
          "data": {
            "text/plain": [
              "<Figure size 640x480 with 8 Axes>"
            ],
            "image/png": "[encoded data removed]"
          },
          "metadata": {}
        }
      ]
    },
    {
      "cell_type": "markdown",
      "source": [
        "###Building the model"
      ],
      "metadata": {
        "id": "4gMf8NoTPq0k"
      }
    },
    {
      "cell_type": "code",
      "source": [
        "model = keras.models.Sequential([\n",
        "    #flattening the images\n",
        "    keras.layers.Flatten(input_shape = (28,28)),\n",
        "    #dense layer\n",
        "    keras.layers.Dense(128, activation = 'relu'),\n",
        "    #output layer\n",
        "    keras.layers.Dense(10)\n",
        "])\n",
        "\n",
        "print(model.summary())"
      ],
      "metadata": {
        "colab": {
          "base_uri": "https://localhost:8080/"
        },
        "id": "QcUbrX-tPs7d",
        "outputId": "71b4d064-3b9c-4088-f666-828cbc06afcb"
      },
      "execution_count": null,
      "outputs": [
        {
          "output_type": "stream",
          "name": "stdout",
          "text": [
            "Model: \"sequential\"\n",
            "_________________________________________________________________\n",
            " Layer (type)                Output Shape              Param #   \n",
            "=================================================================\n",
            " flatten (Flatten)           (None, 784)               0         \n",
            "                                                                 \n",
            " dense (Dense)               (None, 128)               100480    \n",
            "                                                                 \n",
            " dense_1 (Dense)             (None, 10)                1290      \n",
            "                                                                 \n",
            "=================================================================\n",
            "Total params: 101770 (397.54 KB)\n",
            "Trainable params: 101770 (397.54 KB)\n",
            "Non-trainable params: 0 (0.00 Byte)\n",
            "_________________________________________________________________\n",
            "None\n"
          ]
        }
      ]
    },
    {
      "cell_type": "markdown",
      "source": [
        "###Adding the loss and optimizer"
      ],
      "metadata": {
        "id": "G38gKxBUSBX6"
      }
    },
    {
      "cell_type": "code",
      "source": [
        "# getting the loss using sparse categorical crossentropy\n",
        "loss = keras.losses.SparseCategoricalCrossentropy(from_logits = True)\n",
        "\n",
        "#creating optimizers\n",
        "optims = keras.optimizers.Adam(lr = 0.001)\n",
        "metrics= ['accuracy']\n"
      ],
      "metadata": {
        "colab": {
          "base_uri": "https://localhost:8080/"
        },
        "id": "TZzkHyZnSD7b",
        "outputId": "f2bdf5ae-cdcf-45b7-cf9e-60c29d4bfe54"
      },
      "execution_count": null,
      "outputs": [
        {
          "output_type": "stream",
          "name": "stderr",
          "text": [
            "WARNING:absl:`lr` is deprecated in Keras optimizer, please use `learning_rate` or use the legacy optimizer, e.g.,tf.keras.optimizers.legacy.Adam.\n"
          ]
        }
      ]
    },
    {
      "cell_type": "markdown",
      "source": [
        "###Configuring the model for training"
      ],
      "metadata": {
        "id": "aqj7AiD_TfY9"
      }
    },
    {
      "cell_type": "code",
      "source": [
        "#compiling the model\n",
        "model.compile(loss = loss, optimizer = optims, metrics = metrics)"
      ],
      "metadata": {
        "id": "qeP1wAMYTkUL"
      },
      "execution_count": null,
      "outputs": []
    },
    {
      "cell_type": "markdown",
      "source": [
        "###Training the model"
      ],
      "metadata": {
        "id": "01wkAs17Uhus"
      }
    },
    {
      "cell_type": "code",
      "source": [
        "#training the model\n",
        "model.fit(x_train,y_train, batch_size = 70, epochs = 10, shuffle = True, verbose = 2)"
      ],
      "metadata": {
        "colab": {
          "base_uri": "https://localhost:8080/"
        },
        "id": "DRNwS1BjUjZC",
        "outputId": "4c0e8ad4-c9f9-44cd-9bed-932ea75caff0"
      },
      "execution_count": null,
      "outputs": [
        {
          "output_type": "stream",
          "name": "stdout",
          "text": [
            "Epoch 1/10\n",
            "858/858 - 4s - loss: 0.3059 - accuracy: 0.9151 - 4s/epoch - 5ms/step\n",
            "Epoch 2/10\n",
            "858/858 - 2s - loss: 0.1351 - accuracy: 0.9607 - 2s/epoch - 2ms/step\n",
            "Epoch 3/10\n",
            "858/858 - 2s - loss: 0.0942 - accuracy: 0.9732 - 2s/epoch - 2ms/step\n",
            "Epoch 4/10\n",
            "858/858 - 2s - loss: 0.0730 - accuracy: 0.9787 - 2s/epoch - 2ms/step\n",
            "Epoch 5/10\n",
            "858/858 - 2s - loss: 0.0581 - accuracy: 0.9829 - 2s/epoch - 2ms/step\n",
            "Epoch 6/10\n",
            "858/858 - 2s - loss: 0.0468 - accuracy: 0.9865 - 2s/epoch - 3ms/step\n",
            "Epoch 7/10\n",
            "858/858 - 2s - loss: 0.0381 - accuracy: 0.9890 - 2s/epoch - 2ms/step\n",
            "Epoch 8/10\n",
            "858/858 - 2s - loss: 0.0311 - accuracy: 0.9912 - 2s/epoch - 2ms/step\n",
            "Epoch 9/10\n",
            "858/858 - 2s - loss: 0.0250 - accuracy: 0.9930 - 2s/epoch - 2ms/step\n",
            "Epoch 10/10\n",
            "858/858 - 2s - loss: 0.0211 - accuracy: 0.9944 - 2s/epoch - 2ms/step\n"
          ]
        },
        {
          "output_type": "execute_result",
          "data": {
            "text/plain": [
              "<keras.src.callbacks.History at 0x7eac866d2e90>"
            ]
          },
          "metadata": {},
          "execution_count": 11
        }
      ]
    },
    {
      "cell_type": "markdown",
      "source": [
        "###Evaluating the model"
      ],
      "metadata": {
        "id": "fUisBd9dV6rn"
      }
    },
    {
      "cell_type": "code",
      "source": [
        "#evaluating the model\n",
        "model.evaluate(x_test, y_test, batch_size = 70, verbose = 2)"
      ],
      "metadata": {
        "colab": {
          "base_uri": "https://localhost:8080/"
        },
        "id": "wrvWxwZ_V9Gu",
        "outputId": "e0ff126f-d649-4a51-a787-9526c81e799f"
      },
      "execution_count": null,
      "outputs": [
        {
          "output_type": "stream",
          "name": "stdout",
          "text": [
            "143/143 - 0s - loss: 0.0703 - accuracy: 0.9798 - 376ms/epoch - 3ms/step\n"
          ]
        },
        {
          "output_type": "execute_result",
          "data": {
            "text/plain": [
              "[0.07029107958078384, 0.9797999858856201]"
            ]
          },
          "metadata": {},
          "execution_count": 12
        }
      ]
    },
    {
      "cell_type": "markdown",
      "source": [
        "###Making predictions on the model"
      ],
      "metadata": {
        "id": "2F8tluhnWkxw"
      }
    },
    {
      "cell_type": "code",
      "source": [
        "#creating a new model\n",
        "prod = keras.models.Sequential([\n",
        "    model,\n",
        "    keras.layers.Softmax()\n",
        "])\n",
        "\n",
        "#making predictions\n",
        "prediction = prod(x_test)\n",
        "prediction1 = prediction[0]\n",
        "print(prediction1)\n",
        "\n",
        "# getting the class with highest probability\n",
        "max_prob = np.argmax(prediction1)\n",
        "print(max_prob)\n"
      ],
      "metadata": {
        "colab": {
          "base_uri": "https://localhost:8080/"
        },
        "id": "MXndU5ZHWzxm",
        "outputId": "6314e24f-35a2-4666-bb30-6e535c764f21"
      },
      "execution_count": null,
      "outputs": [
        {
          "output_type": "stream",
          "name": "stdout",
          "text": [
            "tf.Tensor(\n",
            "[7.3046294e-06 1.9951345e-09 2.1550979e-05 3.1082416e-03 6.5147644e-12\n",
            " 7.8701568e-08 1.1155257e-11 9.9683905e-01 1.0193582e-07 2.3675579e-05], shape=(10,), dtype=float32)\n",
            "7\n"
          ]
        }
      ]
    },
    {
      "cell_type": "markdown",
      "source": [
        "- class 7 has the highest probability"
      ],
      "metadata": {
        "id": "XTXbu99zYgYb"
      }
    }
  ]
}