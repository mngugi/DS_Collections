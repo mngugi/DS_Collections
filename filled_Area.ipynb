{
 "cells": [
  {
   "cell_type": "code",
   "execution_count": null,
   "id": "4c53514a-3a20-43e4-a7cb-906866be1058",
   "metadata": {},
   "outputs": [],
   "source": [
    "import matplotlib.pyplot as plt \n",
    "import numpy as np\n",
    "\n",
    "x = np.linspace(0, 10, 500)\n",
    "y_1 = np.sin(x)\n",
    "y_2 = np.sin(x) * 0.5\n",
    "\n",
    "\n",
    "plt.fill_between(x, y_1, y_2, color = 'green', alpha=0.4)\n",
    "plt.plot(x, y_1, color='red')\n",
    "plt.plot(x, y_2, color='black')\n",
    "plt.title('Filled Area Between Curves')\n",
    "\n",
    "plt.show()"
   ]
  }
 ],
 "metadata": {
  "kernelspec": {
   "display_name": "Python 3 (ipykernel)",
   "language": "python",
   "name": "python3"
  },
  "language_info": {
   "codemirror_mode": {
    "name": "ipython",
    "version": 3
   },
   "file_extension": ".py",
   "mimetype": "text/x-python",
   "name": "python",
   "nbconvert_exporter": "python",
   "pygments_lexer": "ipython3",
   "version": "3.13.5"
  }
 },
 "nbformat": 4,
 "nbformat_minor": 5
}
