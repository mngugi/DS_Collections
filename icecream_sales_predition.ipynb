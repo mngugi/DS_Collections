{
 "cells": [
  {
   "cell_type": "markdown",
   "id": "262c0fe8-c22e-432d-8a7a-2da31542c238",
   "metadata": {},
   "source": [
    "1️⃣ Title and Metadata\n",
    "\n",
    "# 🧊 Ice Cream Sales Regression Model\n",
    "**Author:** Peter Ngugi  \n",
    "**Date:** 2025-10-28  \n",
    "**Project:** Regression Models\n",
    "\n",
    "This notebook analyzes how temperature affects ice cream sales using a simple linear regression model. We’ll also compare results against existing predicted sales values.\n",
    "\n",
    "2️⃣ Import Libraries\n",
    "\n"
   ]
  },
  {
   "cell_type": "code",
   "execution_count": 1,
   "id": "412eef86-8073-4343-a726-c67d5cc1d377",
   "metadata": {},
   "outputs": [],
   "source": [
    "import pandas as pd\n",
    "import numpy as np\n",
    "import matplotlib.pyplot as plt\n",
    "from sklearn.linear_model import LinearRegression\n",
    "from sklearn.metrics import mean_squared_error, mean_absolute_error, r2_score\n"
   ]
  },
  {
   "cell_type": "markdown",
   "id": "84558ebd-bbe0-4dac-bddf-13f8d4675c3b",
   "metadata": {},
   "source": [
    "### Load and Explore Dataset"
   ]
  },
  {
   "cell_type": "code",
   "execution_count": 2,
   "id": "2beb6395-2b96-4380-87b2-623bd8f5ed54",
   "metadata": {},
   "outputs": [
    {
     "data": {
      "text/html": [
       "<div>\n",
       "<style scoped>\n",
       "    .dataframe tbody tr th:only-of-type {\n",
       "        vertical-align: middle;\n",
       "    }\n",
       "\n",
       "    .dataframe tbody tr th {\n",
       "        vertical-align: top;\n",
       "    }\n",
       "\n",
       "    .dataframe thead th {\n",
       "        text-align: right;\n",
       "    }\n",
       "</style>\n",
       "<table border=\"1\" class=\"dataframe\">\n",
       "  <thead>\n",
       "    <tr style=\"text-align: right;\">\n",
       "      <th></th>\n",
       "      <th>Temperature (x)</th>\n",
       "      <th>Ice cream sales (y)</th>\n",
       "      <th>Predicted Sales ('Y)</th>\n",
       "    </tr>\n",
       "  </thead>\n",
       "  <tbody>\n",
       "    <tr>\n",
       "      <th>0</th>\n",
       "      <td>51</td>\n",
       "      <td>1</td>\n",
       "      <td>1</td>\n",
       "    </tr>\n",
       "    <tr>\n",
       "      <th>1</th>\n",
       "      <td>52</td>\n",
       "      <td>0</td>\n",
       "      <td>2</td>\n",
       "    </tr>\n",
       "    <tr>\n",
       "      <th>2</th>\n",
       "      <td>67</td>\n",
       "      <td>14</td>\n",
       "      <td>17</td>\n",
       "    </tr>\n",
       "    <tr>\n",
       "      <th>3</th>\n",
       "      <td>65</td>\n",
       "      <td>14</td>\n",
       "      <td>15</td>\n",
       "    </tr>\n",
       "    <tr>\n",
       "      <th>4</th>\n",
       "      <td>70</td>\n",
       "      <td>23</td>\n",
       "      <td>20</td>\n",
       "    </tr>\n",
       "  </tbody>\n",
       "</table>\n",
       "</div>"
      ],
      "text/plain": [
       "   Temperature (x)  Ice cream sales (y)  Predicted Sales ('Y)\n",
       "0               51                    1                     1\n",
       "1               52                    0                     2\n",
       "2               67                   14                    17\n",
       "3               65                   14                    15\n",
       "4               70                   23                    20"
      ]
     },
     "execution_count": 2,
     "metadata": {},
     "output_type": "execute_result"
    }
   ],
   "source": [
    "\n",
    "\n",
    "df = pd.read_csv(\"ice_sales.csv\")\n",
    "df.head()\n"
   ]
  },
  {
   "cell_type": "markdown",
   "id": "b48830aa-538b-4b6b-8cbe-72016b5be88a",
   "metadata": {},
   "source": [
    "### Visualize Relationship"
   ]
  },
  {
   "cell_type": "code",
   "execution_count": 3,
   "id": "0ff9c599-0c43-46f9-961d-4c047539c75f",
   "metadata": {},
   "outputs": [
    {
     "data": {
      "image/png": "[encoded data removed]",
      "text/plain": [
       "<Figure size 640x480 with 1 Axes>"
      ]
     },
     "metadata": {},
     "output_type": "display_data"
    }
   ],
   "source": [
    "plt.scatter(df['Temperature (x)'], df['Ice cream sales (y)'], color='blue')\n",
    "plt.title('Temperature vs Ice Cream Sales')\n",
    "plt.xlabel('Temperature (°F)')\n",
    "plt.ylabel('Ice Cream Sales')\n",
    "plt.grid(True)\n",
    "plt.show()\n"
   ]
  },
  {
   "cell_type": "markdown",
   "id": "dbffef80-47ee-45fe-b706-84d78cb17cba",
   "metadata": {},
   "source": [
    "### Build Linear Regression Model "
   ]
  },
  {
   "cell_type": "code",
   "execution_count": 4,
   "id": "6e9f218f-7e82-43d5-aa59-75eed67cbf6a",
   "metadata": {},
   "outputs": [
    {
     "name": "stdout",
     "output_type": "stream",
     "text": [
      "Regression Equation: y = 1.06x + -54.14\n"
     ]
    }
   ],
   "source": [
    "X = df[['Temperature (x)']]   # predictor\n",
    "y = df['Ice cream sales (y)'] # target\n",
    "\n",
    "model = LinearRegression()\n",
    "model.fit(X, y)\n",
    "\n",
    "m = model.coef_[0]\n",
    "b = model.intercept_\n",
    "print(f\"Regression Equation: y = {m:.2f}x + {b:.2f}\")\n"
   ]
  },
  {
   "cell_type": "code",
   "execution_count": null,
   "id": "a2e06984-7e11-415b-bb64-6825c3558d3d",
   "metadata": {},
   "outputs": [],
   "source": []
  }
 ],
 "metadata": {
  "kernelspec": {
   "display_name": "Python 3 (ipykernel)",
   "language": "python",
   "name": "python3"
  },
  "language_info": {
   "codemirror_mode": {
    "name": "ipython",
    "version": 3
   },
   "file_extension": ".py",
   "mimetype": "text/x-python",
   "name": "python",
   "nbconvert_exporter": "python",
   "pygments_lexer": "ipython3",
   "version": "3.13.7"
  }
 },
 "nbformat": 4,
 "nbformat_minor": 5
}
