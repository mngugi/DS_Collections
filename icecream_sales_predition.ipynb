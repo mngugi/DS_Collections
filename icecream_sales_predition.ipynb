{
 "cells": [
  {
   "cell_type": "markdown",
   "id": "262c0fe8-c22e-432d-8a7a-2da31542c238",
   "metadata": {},
   "source": [
    "1️⃣ Title and Metadata\n",
    "\n",
    "## Ice Cream Sales Regression Model\n",
    "**Author:** Peter Ngugi  \n",
    "**Date:** 2025-10-28  \n",
    "**Project:** Regression Models\n",
    "\n",
    "This notebook analyzes how temperature affects ice cream sales using a simple linear regression model. We’ll also compare results against existing predicted sales values.\n",
    "\n",
    "2️⃣ Import Libraries\n",
    "\n"
   ]
  },
  {
   "cell_type": "code",
   "execution_count": 1,
   "id": "412eef86-8073-4343-a726-c67d5cc1d377",
   "metadata": {},
   "outputs": [],
   "source": [
    "import pandas as pd\n",
    "import numpy as np\n",
    "import matplotlib.pyplot as plt\n",
    "from sklearn.linear_model import LinearRegression\n",
    "from sklearn.metrics import mean_squared_error, mean_absolute_error, r2_score\n"
   ]
  },
  {
   "cell_type": "markdown",
   "id": "84558ebd-bbe0-4dac-bddf-13f8d4675c3b",
   "metadata": {},
   "source": [
    "### Load and Explore Dataset"
   ]
  },
  {
   "cell_type": "code",
   "execution_count": 2,
   "id": "2beb6395-2b96-4380-87b2-623bd8f5ed54",
   "metadata": {},
   "outputs": [
    {
     "data": {
      "text/html": [
       "<div>\n",
       "<style scoped>\n",
       "    .dataframe tbody tr th:only-of-type {\n",
       "        vertical-align: middle;\n",
       "    }\n",
       "\n",
       "    .dataframe tbody tr th {\n",
       "        vertical-align: top;\n",
       "    }\n",
       "\n",
       "    .dataframe thead th {\n",
       "        text-align: right;\n",
       "    }\n",
       "</style>\n",
       "<table border=\"1\" class=\"dataframe\">\n",
       "  <thead>\n",
       "    <tr style=\"text-align: right;\">\n",
       "      <th></th>\n",
       "      <th>Temperature (x)</th>\n",
       "      <th>Ice cream sales (y)</th>\n",
       "      <th>Predicted Sales ('Y)</th>\n",
       "    </tr>\n",
       "  </thead>\n",
       "  <tbody>\n",
       "    <tr>\n",
       "      <th>0</th>\n",
       "      <td>51</td>\n",
       "      <td>1</td>\n",
       "      <td>1</td>\n",
       "    </tr>\n",
       "    <tr>\n",
       "      <th>1</th>\n",
       "      <td>52</td>\n",
       "      <td>0</td>\n",
       "      <td>2</td>\n",
       "    </tr>\n",
       "    <tr>\n",
       "      <th>2</th>\n",
       "      <td>67</td>\n",
       "      <td>14</td>\n",
       "      <td>17</td>\n",
       "    </tr>\n",
       "    <tr>\n",
       "      <th>3</th>\n",
       "      <td>65</td>\n",
       "      <td>14</td>\n",
       "      <td>15</td>\n",
       "    </tr>\n",
       "    <tr>\n",
       "      <th>4</th>\n",
       "      <td>70</td>\n",
       "      <td>23</td>\n",
       "      <td>20</td>\n",
       "    </tr>\n",
       "  </tbody>\n",
       "</table>\n",
       "</div>"
      ],
      "text/plain": [
       "   Temperature (x)  Ice cream sales (y)  Predicted Sales ('Y)\n",
       "0               51                    1                     1\n",
       "1               52                    0                     2\n",
       "2               67                   14                    17\n",
       "3               65                   14                    15\n",
       "4               70                   23                    20"
      ]
     },
     "execution_count": 2,
     "metadata": {},
     "output_type": "execute_result"
    }
   ],
   "source": [
    "\n",
    "\n",
    "df = pd.read_csv(\"ice_sales.csv\")\n",
    "df.head()\n"
   ]
  },
  {
   "cell_type": "markdown",
   "id": "b48830aa-538b-4b6b-8cbe-72016b5be88a",
   "metadata": {},
   "source": [
    "### Visualize Relationship"
   ]
  },
  {
   "cell_type": "code",
   "execution_count": 3,
   "id": "0ff9c599-0c43-46f9-961d-4c047539c75f",
   "metadata": {},
   "outputs": [
    {
     "data": {
      "image/png": "[encoded data removed]",
      "text/plain": [
       "<Figure size 640x480 with 1 Axes>"
      ]
     },
     "metadata": {},
     "output_type": "display_data"
    }
   ],
   "source": [
    "plt.scatter(df['Temperature (x)'], df['Ice cream sales (y)'], color='blue')\n",
    "plt.title('Temperature vs Ice Cream Sales')\n",
    "plt.xlabel('Temperature (°F)')\n",
    "plt.ylabel('Ice Cream Sales')\n",
    "plt.grid(True)\n",
    "plt.show()\n"
   ]
  },
  {
   "cell_type": "markdown",
   "id": "dbffef80-47ee-45fe-b706-84d78cb17cba",
   "metadata": {},
   "source": [
    "### Build Linear Regression Model "
   ]
  },
  {
   "cell_type": "code",
   "execution_count": 4,
   "id": "6e9f218f-7e82-43d5-aa59-75eed67cbf6a",
   "metadata": {},
   "outputs": [
    {
     "name": "stdout",
     "output_type": "stream",
     "text": [
      "Regression Equation: y = 1.06x + -54.14\n"
     ]
    }
   ],
   "source": [
    "X = df[['Temperature (x)']]   # predictor\n",
    "y = df['Ice cream sales (y)'] # target\n",
    "\n",
    "model = LinearRegression()\n",
    "model.fit(X, y)\n",
    "\n",
    "m = model.coef_[0]\n",
    "b = model.intercept_\n",
    "print(f\"Regression Equation: y = {m:.2f}x + {b:.2f}\")\n"
   ]
  },
  {
   "cell_type": "markdown",
   "id": "75607688-d486-45ec-bfdc-ba043a40d914",
   "metadata": {},
   "source": [
    "### Predict and Evaluate "
   ]
  },
  {
   "cell_type": "code",
   "execution_count": 7,
   "id": "6cde4c92-3bf2-4814-a8df-370baf059acb",
   "metadata": {},
   "outputs": [
    {
     "name": "stdout",
     "output_type": "stream",
     "text": [
      "R²: 0.971\n",
      "MAE: 1.564\n",
      "RMSE: 1.760\n"
     ]
    },
    {
     "name": "stderr",
     "output_type": "stream",
     "text": [
      "/usr/lib/python3/dist-packages/sklearn/metrics/_regression.py:483: FutureWarning: 'squared' is deprecated in version 1.4 and will be removed in 1.6. To calculate the root mean squared error, use the function'root_mean_squared_error'.\n",
      "  warnings.warn(\n"
     ]
    }
   ],
   "source": [
    "y_pred = model.predict(X)\n",
    "\n",
    "r2 = r2_score(y, y_pred)\n",
    "mae = mean_absolute_error(y, y_pred)\n",
    "rmse = mean_squared_error(y, y_pred, squared=False)\n",
    "\n",
    "print(f\"R²: {r2:.3f}\")\n",
    "print(f\"MAE: {mae:.3f}\")\n",
    "print(f\"RMSE: {rmse:.3f}\")\n"
   ]
  },
  {
   "cell_type": "markdown",
   "id": "e5251927-9fad-4068-a0ff-64330254959c",
   "metadata": {},
   "source": [
    "### Plot Regression Line"
   ]
  },
  {
   "cell_type": "code",
   "execution_count": 9,
   "id": "6e860b11-ae44-4b40-9428-790203ce2e98",
   "metadata": {},
   "outputs": [
    {
     "data": {
      "image/png": "[encoded data removed]",
      "text/plain": [
       "<Figure size 640x480 with 1 Axes>"
      ]
     },
     "metadata": {},
     "output_type": "display_data"
    }
   ],
   "source": [
    "plt.scatter(X, y, color='blue', label='Actual Sales')\n",
    "plt.plot(X, y_pred, color='red', label='Regression Line')\n",
    "plt.title('Linear Regression: Temperature vs Ice Cream Sales')\n",
    "plt.xlabel('Temperature (°F)')\n",
    "plt.ylabel('Sales')\n",
    "plt.legend()\n",
    "plt.show()\n"
   ]
  },
  {
   "cell_type": "markdown",
   "id": "73c96942-a5d7-48f4-80d7-8e88b0a8153a",
   "metadata": {},
   "source": [
    "### 9️⃣ Compare with Existing Predicted Values"
   ]
  },
  {
   "cell_type": "code",
   "execution_count": 10,
   "id": "1e953692-c718-467f-becc-973bc2189151",
   "metadata": {},
   "outputs": [
    {
     "data": {
      "text/html": [
       "<div>\n",
       "<style scoped>\n",
       "    .dataframe tbody tr th:only-of-type {\n",
       "        vertical-align: middle;\n",
       "    }\n",
       "\n",
       "    .dataframe tbody tr th {\n",
       "        vertical-align: top;\n",
       "    }\n",
       "\n",
       "    .dataframe thead th {\n",
       "        text-align: right;\n",
       "    }\n",
       "</style>\n",
       "<table border=\"1\" class=\"dataframe\">\n",
       "  <thead>\n",
       "    <tr style=\"text-align: right;\">\n",
       "      <th></th>\n",
       "      <th>Temperature (x)</th>\n",
       "      <th>Ice cream sales (y)</th>\n",
       "      <th>Predicted Sales ('Y)</th>\n",
       "      <th>Model_Predicted</th>\n",
       "    </tr>\n",
       "  </thead>\n",
       "  <tbody>\n",
       "    <tr>\n",
       "      <th>0</th>\n",
       "      <td>51</td>\n",
       "      <td>1</td>\n",
       "      <td>1</td>\n",
       "      <td>-0.17</td>\n",
       "    </tr>\n",
       "    <tr>\n",
       "      <th>1</th>\n",
       "      <td>52</td>\n",
       "      <td>0</td>\n",
       "      <td>2</td>\n",
       "      <td>0.89</td>\n",
       "    </tr>\n",
       "    <tr>\n",
       "      <th>2</th>\n",
       "      <td>67</td>\n",
       "      <td>14</td>\n",
       "      <td>17</td>\n",
       "      <td>16.76</td>\n",
       "    </tr>\n",
       "    <tr>\n",
       "      <th>3</th>\n",
       "      <td>65</td>\n",
       "      <td>14</td>\n",
       "      <td>15</td>\n",
       "      <td>14.64</td>\n",
       "    </tr>\n",
       "    <tr>\n",
       "      <th>4</th>\n",
       "      <td>70</td>\n",
       "      <td>23</td>\n",
       "      <td>20</td>\n",
       "      <td>19.94</td>\n",
       "    </tr>\n",
       "    <tr>\n",
       "      <th>5</th>\n",
       "      <td>69</td>\n",
       "      <td>20</td>\n",
       "      <td>19</td>\n",
       "      <td>18.88</td>\n",
       "    </tr>\n",
       "    <tr>\n",
       "      <th>6</th>\n",
       "      <td>72</td>\n",
       "      <td>23</td>\n",
       "      <td>22</td>\n",
       "      <td>22.05</td>\n",
       "    </tr>\n",
       "    <tr>\n",
       "      <th>7</th>\n",
       "      <td>75</td>\n",
       "      <td>26</td>\n",
       "      <td>25</td>\n",
       "      <td>25.23</td>\n",
       "    </tr>\n",
       "    <tr>\n",
       "      <th>8</th>\n",
       "      <td>73</td>\n",
       "      <td>22</td>\n",
       "      <td>23</td>\n",
       "      <td>23.11</td>\n",
       "    </tr>\n",
       "    <tr>\n",
       "      <th>9</th>\n",
       "      <td>81</td>\n",
       "      <td>30</td>\n",
       "      <td>31</td>\n",
       "      <td>31.58</td>\n",
       "    </tr>\n",
       "    <tr>\n",
       "      <th>10</th>\n",
       "      <td>78</td>\n",
       "      <td>26</td>\n",
       "      <td>28</td>\n",
       "      <td>28.40</td>\n",
       "    </tr>\n",
       "    <tr>\n",
       "      <th>11</th>\n",
       "      <td>83</td>\n",
       "      <td>36</td>\n",
       "      <td>33</td>\n",
       "      <td>33.69</td>\n",
       "    </tr>\n",
       "  </tbody>\n",
       "</table>\n",
       "</div>"
      ],
      "text/plain": [
       "    Temperature (x)  Ice cream sales (y)  Predicted Sales ('Y)  \\\n",
       "0                51                    1                     1   \n",
       "1                52                    0                     2   \n",
       "2                67                   14                    17   \n",
       "3                65                   14                    15   \n",
       "4                70                   23                    20   \n",
       "5                69                   20                    19   \n",
       "6                72                   23                    22   \n",
       "7                75                   26                    25   \n",
       "8                73                   22                    23   \n",
       "9                81                   30                    31   \n",
       "10               78                   26                    28   \n",
       "11               83                   36                    33   \n",
       "\n",
       "    Model_Predicted  \n",
       "0             -0.17  \n",
       "1              0.89  \n",
       "2             16.76  \n",
       "3             14.64  \n",
       "4             19.94  \n",
       "5             18.88  \n",
       "6             22.05  \n",
       "7             25.23  \n",
       "8             23.11  \n",
       "9             31.58  \n",
       "10            28.40  \n",
       "11            33.69  "
      ]
     },
     "execution_count": 10,
     "metadata": {},
     "output_type": "execute_result"
    }
   ],
   "source": [
    "comparison = df.copy()\n",
    "comparison['Model_Predicted'] = y_pred.round(2)\n",
    "comparison\n"
   ]
  },
  {
   "cell_type": "markdown",
   "id": "71e3b684-04f0-43d4-add7-8cadbd28513f",
   "metadata": {},
   "source": [
    "### Insights\n",
    "- As temperature increases, ice cream sales increase linearly.\n",
    "- The model fits the small dataset reasonably well.\n",
    "- R² value indicates how much variation in sales is explained by temperature.\n",
    "- Future work: Add more data points and external factors (humidity, time, location).\n",
    "\n",
    "### Summary\n",
    "- **Equation:** y = m·x + b  \n",
    "- **R²:** (Insert actual value)  \n",
    "- **MAE / RMSE:** (Insert values)\n"
   ]
  },
  {
   "cell_type": "code",
   "execution_count": null,
   "id": "504a5859-380d-410c-81ac-0589c7e18a23",
   "metadata": {},
   "outputs": [],
   "source": []
  }
 ],
 "metadata": {
  "kernelspec": {
   "display_name": "Python 3 (ipykernel)",
   "language": "python",
   "name": "python3"
  },
  "language_info": {
   "codemirror_mode": {
    "name": "ipython",
    "version": 3
   },
   "file_extension": ".py",
   "mimetype": "text/x-python",
   "name": "python",
   "nbconvert_exporter": "python",
   "pygments_lexer": "ipython3",
   "version": "3.13.7"
  }
 },
 "nbformat": 4,
 "nbformat_minor": 5
}
