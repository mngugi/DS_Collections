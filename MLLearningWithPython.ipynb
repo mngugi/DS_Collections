{
 "cells": [
  {
   "cell_type": "markdown",
   "id": "42e6457e-577d-44c7-b490-79546c0641d8",
   "metadata": {},
   "source": [
    "Serialization or self study of the Book Introduction to Machine Learning with Python,\n",
    "A Guid for Data Sciencetists. Coding excercses are those found in the book chapters.\n",
    "by Andreas C. Müller & Sarah Guido. "
   ]
  },
  {
   "cell_type": "markdown",
   "id": "32218655-4a09-4f49-864c-5c3743e7d3fe",
   "metadata": {},
   "source": [
    "**NumPy**\n",
    "\n",
    "NumPy is one of the fundamental packages for scientific computing in Python. It\n",
    "contains functionality for multidimensional arrays, high-level mathematical func‐\n",
    "tions such as linear algebra operations and the Fourier transform, and pseudorandom\n",
    "number generators.\n",
    "\n",
    "In scikit-learn, the NumPy array is the fundamental data structure. scikit-learn\n",
    "takes in data in the form of NumPy arrays. Any data you’re using will have to be con‐\n",
    "verted to a NumPy array. The core functionality of NumPy is the ndarray class, a\n",
    "multidimensional (n-dimensional) array. All elements of the array must be of the\n",
    "same type. A NumPy array looks like this:"
   ]
  },
  {
   "cell_type": "code",
   "execution_count": 2,
   "id": "deeaa214-a4f2-4143-8420-a23e00453298",
   "metadata": {},
   "outputs": [
    {
     "name": "stdout",
     "output_type": "stream",
     "text": [
      "x:[[4 5 6]\n",
      " [7 8 9]]\n"
     ]
    }
   ],
   "source": [
    "# Chap 1 Introduction to Libraries\n",
    "\n",
    "# to use numpy\n",
    "\n",
    "import numpy as np\n",
    "\n",
    "x = np.array([[4,5,6],[7,8,9]])\n",
    "print(\"x:{}\".format(x))\n",
    "\n"
   ]
  },
  {
   "cell_type": "markdown",
   "id": "215b56a6-7748-46d5-aefb-692d33631ce8",
   "metadata": {},
   "source": []
  }
 ],
 "metadata": {
  "kernelspec": {
   "display_name": "Python 3 (ipykernel)",
   "language": "python",
   "name": "python3"
  },
  "language_info": {
   "codemirror_mode": {
    "name": "ipython",
    "version": 3
   },
   "file_extension": ".py",
   "mimetype": "text/x-python",
   "name": "python",
   "nbconvert_exporter": "python",
   "pygments_lexer": "ipython3",
   "version": "3.12.5"
  }
 },
 "nbformat": 4,
 "nbformat_minor": 5
}
