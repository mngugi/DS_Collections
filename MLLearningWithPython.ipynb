{
 "cells": [
  {
   "cell_type": "markdown",
   "id": "42e6457e-577d-44c7-b490-79546c0641d8",
   "metadata": {},
   "source": [
    "Serialization or self study of the Book Introduction to Machine Learning with Python,\n",
    "A Guid for Data Sciencetists. Coding excercses are those found in the book chapters.\n",
    "by Andreas C. Müller & Sarah Guido. "
   ]
  },
  {
   "cell_type": "markdown",
   "id": "32218655-4a09-4f49-864c-5c3743e7d3fe",
   "metadata": {},
   "source": [
    "**NumPy**\n",
    "\n",
    "NumPy is one of the fundamental packages for scientific computing in Python. It\n",
    "contains functionality for multidimensional arrays, high-level mathematical func‐\n",
    "tions such as linear algebra operations and the Fourier transform, and pseudorandom\n",
    "number generators.\n",
    "\n",
    "In scikit-learn, the NumPy array is the fundamental data structure. scikit-learn\n",
    "takes in data in the form of NumPy arrays. Any data you’re using will have to be con‐\n",
    "verted to a NumPy array. The core functionality of NumPy is the ndarray class, a\n",
    "multidimensional (n-dimensional) array. All elements of the array must be of the\n",
    "same type. A NumPy array looks like this:"
   ]
  },
  {
   "cell_type": "code",
   "execution_count": 3,
   "id": "deeaa214-a4f2-4143-8420-a23e00453298",
   "metadata": {},
   "outputs": [
    {
     "name": "stdout",
     "output_type": "stream",
     "text": [
      "x:[[4 5 6]\n",
      " [7 8 9]]\n"
     ]
    }
   ],
   "source": [
    "# Chap 1 Introduction to Libraries\n",
    "\n",
    "# to use numpy\n",
    "\n",
    "import numpy as np\n",
    "# create 2 arrays\n",
    "x = np.array([[4,5,6],[7,8,9]])\n",
    "print(\"x:{}\".format(x))\n",
    "\n"
   ]
  },
  {
   "cell_type": "markdown",
   "id": "215b56a6-7748-46d5-aefb-692d33631ce8",
   "metadata": {},
   "source": [
    "**SciPy**\n",
    "\n",
    "SciPy is a collection of functions for scientific computing in Python. It provides,\n",
    "among other functionality, advanced linear algebra routines, mathematical function\n",
    "optimization, signal processing, special mathematical functions, and statistical distri‐\n",
    "butions. scikit-learn draws from SciPy’s collection of functions for implementing\n",
    "its algorithms."
   ]
  },
  {
   "cell_type": "code",
   "execution_count": 4,
   "id": "acf207b9-953c-4984-adbd-12e1653a231e",
   "metadata": {},
   "outputs": [
    {
     "name": "stdout",
     "output_type": "stream",
     "text": [
      "Numpy array:\n",
      "[[1. 0. 0. 0.]\n",
      " [0. 1. 0. 0.]\n",
      " [0. 0. 1. 0.]\n",
      " [0. 0. 0. 1.]]\n"
     ]
    }
   ],
   "source": [
    "from scipy import sparse  # scipy uses sparse matrices\n",
    "import numpy as np\n",
    "\n",
    "eye = np.eye(4) # Create a 2D NumPy array with a diagonal of ones, and zeros everywhere else\n",
    "print(\"Numpy array:\\n{}\".format(eye))\n"
   ]
  },
  {
   "cell_type": "code",
   "execution_count": 5,
   "id": "09cc5440-4152-4ff2-b49c-7dcee0b1d3fa",
   "metadata": {},
   "outputs": [
    {
     "name": "stdout",
     "output_type": "stream",
     "text": [
      "\n",
      "SciPy sparse CSR matrix:\n",
      "<Compressed Sparse Column sparse matrix of dtype 'float64'\n",
      "\twith 4 stored elements and shape (4, 4)>\n",
      "  Coords\tValues\n",
      "  (0, 0)\t1.0\n",
      "  (1, 1)\t1.0\n",
      "  (2, 2)\t1.0\n",
      "  (3, 3)\t1.0\n"
     ]
    }
   ],
   "source": [
    "# Convert the NumPy array to a SciPy sparse matrix in CSR format # Only the nonzero entries are \n",
    "# stored \n",
    "sparse_matrix = sparse.csc_matrix(eye)\n",
    "print(\"\\nSciPy sparse CSR matrix:\\n{}\".format(sparse_matrix))"
   ]
  },
  {
   "cell_type": "markdown",
   "id": "fea25b7b-30d2-47a1-92c4-d96cfff96636",
   "metadata": {},
   "source": [
    "Here is a  way to create the same sparse matrix as before, using the COO formatHere is a  way to create the same sparse matrix as before, using the COO format.\n"
   ]
  },
  {
   "cell_type": "code",
   "execution_count": 7,
   "id": "6c139975-76b5-40d4-8822-e23ab07445a8",
   "metadata": {},
   "outputs": [
    {
     "name": "stdout",
     "output_type": "stream",
     "text": [
      "COO representation:\n",
      "<COOrdinate sparse matrix of dtype 'float64'\n",
      "\twith 4 stored elements and shape (4, 4)>\n",
      "  Coords\tValues\n",
      "  (0, 0)\t1.0\n",
      "  (1, 1)\t1.0\n",
      "  (2, 2)\t1.0\n",
      "  (3, 3)\t1.0\n"
     ]
    }
   ],
   "source": [
    "dt = np.ones(4)\n",
    "row_indices = np.arange(4) \n",
    "col_indices = np.arange(4) \n",
    "eye_coo = sparse.coo_matrix((dt, (row_indices, col_indices))) \n",
    "print(\"COO representation:\\n{}\".format(eye_coo))"
   ]
  },
  {
   "cell_type": "code",
   "execution_count": null,
   "id": "ab98090a-4b16-4565-93a4-e08b45ff3f5e",
   "metadata": {},
   "outputs": [],
   "source": []
  }
 ],
 "metadata": {
  "kernelspec": {
   "display_name": "Python 3 (ipykernel)",
   "language": "python",
   "name": "python3"
  },
  "language_info": {
   "codemirror_mode": {
    "name": "ipython",
    "version": 3
   },
   "file_extension": ".py",
   "mimetype": "text/x-python",
   "name": "python",
   "nbconvert_exporter": "python",
   "pygments_lexer": "ipython3",
   "version": "3.12.5"
  }
 },
 "nbformat": 4,
 "nbformat_minor": 5
}
