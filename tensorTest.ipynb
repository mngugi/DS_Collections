{
  "nbformat": 4,
  "nbformat_minor": 0,
  "metadata": {
    "colab": {
      "provenance": [],
      "authorship_tag": "ABX9TyNzVqfqRAlS2FMVcnJfz2ur",
      "include_colab_link": true
    },
    "kernelspec": {
      "name": "python3",
      "display_name": "Python 3"
    },
    "language_info": {
      "name": "python"
    }
  },
  "cells": [
    {
      "cell_type": "markdown",
      "metadata": {
        "id": "view-in-github",
        "colab_type": "text"
      },
      "source": [
        "<a href=\"https://colab.research.google.com/github/mngugi/DS_Collections/blob/main/tensorTest.ipynb\" target=\"_parent\"><img src=\"https://colab.research.google.com/assets/colab-badge.svg\" alt=\"Open In Colab\"/></a>"
      ]
    },
    {
      "cell_type": "code",
      "execution_count": 1,
      "metadata": {
        "id": "t4nxX-UDzpjx"
      },
      "outputs": [],
      "source": [
        "import tensorflow as tf\n",
        "\n",
        "# create a1,2,3, tensorflow constant\n",
        "x = tf.constant([1,2,3])\n",
        "y = tf.constant([4,5,6])\n",
        "\n",
        "# perform element wise multiplication\n",
        "\n",
        "result = tf.multiply(x,y)\n",
        "\n",
        "# create a tensorflow section and run the computation\n",
        "\n",
        "with tf.Session() as sess:\n",
        "  output = sess.run(result)\n",
        "  print(output)\n",
        "\n",
        "\n"
      ]
    }
  ]
}